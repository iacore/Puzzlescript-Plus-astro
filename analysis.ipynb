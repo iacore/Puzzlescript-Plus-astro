{
 "cells": [
  {
   "cell_type": "code",
   "execution_count": 80,
   "id": "a70e3f03-83dc-45c3-98be-213f1c32a7d3",
   "metadata": {},
   "outputs": [],
   "source": [
    "import pandas as pd\n",
    "import networkx as nx\n",
    "from pyvis.network import Network"
   ]
  },
  {
   "cell_type": "code",
   "execution_count": 98,
   "id": "11bd7809-fb4f-457f-90a8-61281a9660b3",
   "metadata": {},
   "outputs": [
    {
     "data": {
      "text/html": [
       "<div>\n",
       "<style scoped>\n",
       "    .dataframe tbody tr th:only-of-type {\n",
       "        vertical-align: middle;\n",
       "    }\n",
       "\n",
       "    .dataframe tbody tr th {\n",
       "        vertical-align: top;\n",
       "    }\n",
       "\n",
       "    .dataframe thead th {\n",
       "        text-align: right;\n",
       "    }\n",
       "</style>\n",
       "<table border=\"1\" class=\"dataframe\">\n",
       "  <thead>\n",
       "    <tr style=\"text-align: right;\">\n",
       "      <th></th>\n",
       "      <th>filename</th>\n",
       "      <th>ident</th>\n",
       "    </tr>\n",
       "  </thead>\n",
       "  <tbody>\n",
       "    <tr>\n",
       "      <th>0</th>\n",
       "      <td>addlisteners_editor.js</td>\n",
       "      <td>newSound</td>\n",
       "    </tr>\n",
       "    <tr>\n",
       "      <th>1</th>\n",
       "      <td>addlisteners_editor.js</td>\n",
       "      <td>solveClick</td>\n",
       "    </tr>\n",
       "    <tr>\n",
       "      <th>2</th>\n",
       "      <td>addlisteners_editor.js</td>\n",
       "      <td>cancelClick</td>\n",
       "    </tr>\n",
       "    <tr>\n",
       "      <th>3</th>\n",
       "      <td>addlisteners_editor.js</td>\n",
       "      <td>runClick</td>\n",
       "    </tr>\n",
       "    <tr>\n",
       "      <th>4</th>\n",
       "      <td>addlisteners_editor.js</td>\n",
       "      <td>saveClick</td>\n",
       "    </tr>\n",
       "  </tbody>\n",
       "</table>\n",
       "</div>"
      ],
      "text/plain": [
       "                 filename        ident\n",
       "0  addlisteners_editor.js     newSound\n",
       "1  addlisteners_editor.js   solveClick\n",
       "2  addlisteners_editor.js  cancelClick\n",
       "3  addlisteners_editor.js     runClick\n",
       "4  addlisteners_editor.js    saveClick"
      ]
     },
     "execution_count": 98,
     "metadata": {},
     "output_type": "execute_result"
    }
   ],
   "source": [
    "df_undef = pd.read_csv('undef2.tsv', sep='\\t', header=None, names=['filename', 'ident'])\n",
    "df_undef.head()"
   ]
  },
  {
   "cell_type": "code",
   "execution_count": 99,
   "id": "12e7d0e2-53dc-473e-b067-3fc210bf229c",
   "metadata": {},
   "outputs": [
    {
     "data": {
      "text/html": [
       "<div>\n",
       "<style scoped>\n",
       "    .dataframe tbody tr th:only-of-type {\n",
       "        vertical-align: middle;\n",
       "    }\n",
       "\n",
       "    .dataframe tbody tr th {\n",
       "        vertical-align: top;\n",
       "    }\n",
       "\n",
       "    .dataframe thead th {\n",
       "        text-align: right;\n",
       "    }\n",
       "</style>\n",
       "<table border=\"1\" class=\"dataframe\">\n",
       "  <thead>\n",
       "    <tr style=\"text-align: right;\">\n",
       "      <th></th>\n",
       "      <th>filename</th>\n",
       "      <th>ident</th>\n",
       "      <th>lineno-1</th>\n",
       "      <th>line</th>\n",
       "    </tr>\n",
       "  </thead>\n",
       "  <tbody>\n",
       "    <tr>\n",
       "      <th>0</th>\n",
       "      <td>storagewrapper.js</td>\n",
       "      <td>storage_has</td>\n",
       "      <td>0</td>\n",
       "      <td>function storage_has(key) {</td>\n",
       "    </tr>\n",
       "    <tr>\n",
       "      <th>1</th>\n",
       "      <td>storagewrapper.js</td>\n",
       "      <td>storage_get</td>\n",
       "      <td>4</td>\n",
       "      <td>function storage_get(key) {</td>\n",
       "    </tr>\n",
       "    <tr>\n",
       "      <th>2</th>\n",
       "      <td>storagewrapper.js</td>\n",
       "      <td>storage_set</td>\n",
       "      <td>8</td>\n",
       "      <td>function storage_set(key, value) {</td>\n",
       "    </tr>\n",
       "    <tr>\n",
       "      <th>3</th>\n",
       "      <td>storagewrapper.js</td>\n",
       "      <td>storage_remove</td>\n",
       "      <td>12</td>\n",
       "      <td>function storage_remove(key) {</td>\n",
       "    </tr>\n",
       "    <tr>\n",
       "      <th>4</th>\n",
       "      <td>debug.js</td>\n",
       "      <td>canSetHTMLColors</td>\n",
       "      <td>0</td>\n",
       "      <td>var canSetHTMLColors = false</td>\n",
       "    </tr>\n",
       "  </tbody>\n",
       "</table>\n",
       "</div>"
      ],
      "text/plain": [
       "            filename             ident  lineno-1  \\\n",
       "0  storagewrapper.js       storage_has         0   \n",
       "1  storagewrapper.js       storage_get         4   \n",
       "2  storagewrapper.js       storage_set         8   \n",
       "3  storagewrapper.js    storage_remove        12   \n",
       "4           debug.js  canSetHTMLColors         0   \n",
       "\n",
       "                                 line  \n",
       "0         function storage_has(key) {  \n",
       "1         function storage_get(key) {  \n",
       "2  function storage_set(key, value) {  \n",
       "3      function storage_remove(key) {  \n",
       "4        var canSetHTMLColors = false  "
      ]
     },
     "execution_count": 99,
     "metadata": {},
     "output_type": "execute_result"
    }
   ],
   "source": [
    "df_defs = pd.read_csv('defs.tsv', sep='\\t', header=None, names=['filename', 'ident', 'lineno-1', 'line'])\n",
    "df_defs.head()"
   ]
  },
  {
   "cell_type": "code",
   "execution_count": 112,
   "id": "a9783086-5a8e-494b-b411-a65262fe24a0",
   "metadata": {},
   "outputs": [],
   "source": [
    "from collections import defaultdict"
   ]
  },
  {
   "cell_type": "code",
   "execution_count": 119,
   "id": "9a783f93-7580-4838-aeaa-4b64781563ca",
   "metadata": {},
   "outputs": [],
   "source": [
    "identmap = defaultdict(list)\n",
    "\n",
    "for i, row in df_undef.iterrows():\n",
    "    # print(row)\n",
    "    ident = row.ident\n",
    "    f_missing = row.filename\n",
    "    fs_has = list(df_defs[df_defs.ident == ident].filename)\n",
    "    if len(fs_has) == 0:\n",
    "        print(\"miss:\", f_missing, ident)\n",
    "    elif len(fs_has) != 1:\n",
    "        print(\"dup:\", fs_has, ident)\n",
    "    else:\n",
    "        identmap[(f_missing, fs_has[0])].append(ident)\n",
    "\n",
    "G = nx.DiGraph()\n",
    "for ((miss, has), idents) in identmap.items():\n",
    "    G.add_edge(miss, has, label=str(len(idents)))"
   ]
  },
  {
   "cell_type": "code",
   "execution_count": 120,
   "id": "0063588d-db3b-412d-80f5-622e30301b09",
   "metadata": {},
   "outputs": [
    {
     "name": "stdout",
     "output_type": "stream",
     "text": [
      "Local cdn resources have problems on chrome/safari when used in jupyter-notebook. \n"
     ]
    },
    {
     "data": {
      "text/html": [
       "\n",
       "        <iframe\n",
       "            width=\"100%\"\n",
       "            height=\"600px\"\n",
       "            src=\"nx.html\"\n",
       "            frameborder=\"0\"\n",
       "            allowfullscreen\n",
       "            \n",
       "        ></iframe>\n",
       "        "
      ],
      "text/plain": [
       "<IPython.lib.display.IFrame at 0x7f69ae36e3e0>"
      ]
     },
     "execution_count": 120,
     "metadata": {},
     "output_type": "execute_result"
    }
   ],
   "source": [
    "nt = Network(notebook=True)\n",
    "# populates the nodes and edges data structures\n",
    "nt.from_nx(G)\n",
    "nt.show('nx.html')"
   ]
  },
  {
   "cell_type": "code",
   "execution_count": null,
   "id": "fe3a1b03-7d51-4572-9001-f64d2910227e",
   "metadata": {},
   "outputs": [],
   "source": []
  }
 ],
 "metadata": {
  "kernelspec": {
   "display_name": "Python 3 (ipykernel)",
   "language": "python",
   "name": "python3"
  },
  "language_info": {
   "codemirror_mode": {
    "name": "ipython",
    "version": 3
   },
   "file_extension": ".py",
   "mimetype": "text/x-python",
   "name": "python",
   "nbconvert_exporter": "python",
   "pygments_lexer": "ipython3",
   "version": "3.10.9"
  }
 },
 "nbformat": 4,
 "nbformat_minor": 5
}
